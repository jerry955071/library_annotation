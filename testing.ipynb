{
 "cells": [
  {
   "cell_type": "markdown",
   "metadata": {},
   "source": [
    "### jupyter-notebook configs  \n",
    "- kernel: project_gilead_chen (Python 3.10.0)"
   ]
  },
  {
   "cell_type": "markdown",
   "metadata": {},
   "source": [
    "### Setup\n",
    "Add 'library_annotation/scripts' to search path"
   ]
  },
  {
   "cell_type": "code",
   "execution_count": 1,
   "metadata": {},
   "outputs": [],
   "source": [
    "import sys\n",
    "sys.path.append(\n",
    "    \"/home/woodformation/SSD3/CCC/project_Gilead/library_annotation/scripts\"\n",
    ")"
   ]
  },
  {
   "cell_type": "markdown",
   "metadata": {},
   "source": [
    "### Extract boundary sequences (20220415)  \n",
    "Search and record potential boundary sequences from: *'outputs/samtools/filtered/raw_fastq.filtered.sam'*  \n"
   ]
  },
  {
   "cell_type": "code",
   "execution_count": 44,
   "metadata": {},
   "outputs": [],
   "source": [
    "from Align.AlignIO import AlignIO\n",
    "from Bio import SeqIO\n",
    "import re\n",
    "\n",
    "# max len extracted\n",
    "max_len = 30\n",
    "\n",
    "# input file\n",
    "fin = \"outputs/samtools/filtered/raw_fastq.filtered.sam\"\n",
    "\n",
    "# output boundary fasta\n",
    "front_bound = f\"test/test_clustalo/front_bound_{max_len}.fa\"\n",
    "back_bound = f\"test/test_clustalo/back_bound_{max_len}.fa\"\n",
    "open(front_bound, \"w\").close()\n",
    "open(back_bound, \"w\").close()\n",
    "handle_front = open(front_bound, \"a\")\n",
    "handle_back = open(back_bound, \"a\")\n",
    "\n",
    "# qname parser\n",
    "pattern = \"(?P<sample>[0-9][0-9]_[A-Z][0-9][0-9])\" + \\\n",
    "    \"_\" + \"(?P<suffix>.*)\"\n",
    "prog = re.compile(pattern)\n",
    "\n",
    "\n",
    "for align in AlignIO(fin).AlignGenerator():\n",
    "    # skip unmapped record\n",
    "    if align.flag == 4:\n",
    "        continue\n",
    "    \n",
    "    # get cigars and positions\n",
    "    positions = [i for i in align.cigar]\n",
    "\n",
    "    # match qname to pattern\n",
    "    result = prog.match(align.qname)\n",
    "    # if \"ADF\"\n",
    "    if result.group(\"suffix\") == \"ADF\":\n",
    "        c, pos = positions[0]\n",
    "        # if front clipped\n",
    "        if c == \"S\":\n",
    "            l = min(pos[1] - pos[0], max_len)\n",
    "            handle_front.write(\n",
    "                \">%s\\n%s\\n\" % (\n",
    "                    result.group(\"sample\"),\n",
    "                    align.seq[pos[1] - l:pos[1]]\n",
    "                    )\n",
    "                )\n",
    "        continue\n",
    "    # if \"ADR\"\n",
    "    if result.group(\"suffix\") == \"ADR\":\n",
    "        c, pos = positions[-1]\n",
    "        # if end clipped\n",
    "        if c == \"S\":\n",
    "            l = min(pos[1] - pos[0], max_len)\n",
    "            handle_back.write(\n",
    "                \">%s\\n%s\\n\" % (\n",
    "                    result.group(\"sample\"),\n",
    "                    align.seq[pos[0]:pos[0] + l]\n",
    "                    )\n",
    "            )\n",
    "        continue\n",
    "\n",
    "handle_front.close()\n",
    "handle_back.close()"
   ]
  },
  {
   "cell_type": "markdown",
   "metadata": {},
   "source": [
    "### Multiple alignment using Clustal Omega"
   ]
  },
  {
   "cell_type": "code",
   "execution_count": 45,
   "metadata": {},
   "outputs": [],
   "source": [
    "import subprocess\n",
    "\n",
    "# where is clustalo\n",
    "clustalo = \"./tools/clustalo\"\n",
    "\n",
    "for max_len in [30]:\n",
    "    for direction in [\"front\", \"back\"]:\n",
    "        # params\n",
    "        input_file = f\"./test/test_clustalo/{direction}_bound_{max_len}.fa\"\n",
    "        output_file = input_file.replace(\".fa\", \".aln\")\n",
    "        outfmt = \"clustal\"\n",
    "        wrap = \"200\"\n",
    "        \n",
    "        # initial cmdline\n",
    "        cmdline = []\n",
    "        \n",
    "        cmdline.append(clustalo)\n",
    "        if input_file:\n",
    "            cmdline.append(\"-i\")\n",
    "            cmdline.append(input_file)\n",
    "        if outfmt:\n",
    "            cmdline.append(f\"-outfmt={outfmt}\")\n",
    "            # cmdline.append(outfmt)\n",
    "        if output_file:\n",
    "            cmdline.append(\"-o\")\n",
    "            cmdline.append(output_file)\n",
    "        if wrap:\n",
    "            cmdline.append(\"--wrap\")\n",
    "            cmdline.append(wrap)\n",
    "\n",
    "        subprocess.run(cmdline, capture_output=True)"
   ]
  },
  {
   "cell_type": "markdown",
   "metadata": {},
   "source": [
    "### Sanger sequence primer design using Primer3 (20220420)\n",
    "The following criteria are considered most critical in sequencing primer design:\n",
    "- Primer length should be in the range of 18 and 24 bases.\n",
    "- The primer should have a GC content of about 45-55%.\n",
    "- The primers should have a GC-lock (or GC \"clamp\") on the 3' end (i.e. the last 1 or 2 nucleotides should be a G or C residue).\n",
    "- The primer should have a melting temperature (Tm) greater than 50°C but less than 65°C.\n",
    "- The primer should not include homopolymeric runs of more than 4-5 nucleotides.\n",
    "- Avoid primers with secondary structures or the potential to self-hybridize.\n",
    "- Avoid designing primer upstream of homopolymeric or heteropolymeric regions (A, C, G or T repeats).\n",
    "- Check primer for specificity in annealing to template (= lack of secondary priming site).\n",
    "- Primer should be located at least 50-60 bases upstream of your sequence of interest.\n",
    "\n",
    "https://dnacore.mgh.harvard.edu/new-cgi-bin/site/pages/sequencing_pages/primer_design.jsp"
   ]
  },
  {
   "cell_type": "markdown",
   "metadata": {},
   "source": [
    "#### Testing Primer3"
   ]
  },
  {
   "cell_type": "markdown",
   "metadata": {},
   "source": [
    "Primer3 general settings"
   ]
  },
  {
   "cell_type": "code",
   "execution_count": 1,
   "metadata": {},
   "outputs": [],
   "source": [
    "# primer siz (14-25, 20)\n",
    "PRIMER_MIN_SIZE: int = 14\n",
    "PRIMER_MAX_SIZE: int = 25\n",
    "PRIMER_OPT_SIZE: int = 20\n",
    "# primer GC-content (40-50, 50)\n",
    "PRIMER_MIN_GC: float = 40.0\n",
    "PRIMER_MAX_GC: float = 50.0\n",
    "PRIMER_OPT_GC_PERCENT: float = 50.0\n",
    "# primer melting temperature (Celsius) (40-55, 50)\n",
    "PRIMER_MIN_TM: float = 40\n",
    "PRIMER_MAX_TM: float = 55\n",
    "PRIMER_OPT_TM: float = 50\n",
    "# the maximum number of primer to return\n",
    "PRIMER_NUM_RETURN: int = 3\n",
    "# max Ns accepted\n",
    "PRIMER_MAX_NS_ACCEPTED: int = 0\n",
    "# \n",
    "PRIMER_EXPLAIN_FLAG: bool = 1\n",
    "\n",
    "# param dict\n",
    "GENERAL = {\n",
    "    \"PRIMER_MIN_SIZE\": PRIMER_MIN_SIZE,\n",
    "    \"PRIMER_MAX_SIZE\": PRIMER_MAX_SIZE,\n",
    "    \"PRIMER_OPT_SIZE\": PRIMER_OPT_SIZE,\n",
    "    \"PRIMER_MIN_GC\": PRIMER_MIN_GC,\n",
    "    \"PRIMER_MAX_GC\": PRIMER_MAX_GC,\n",
    "    \"PRIMER_OPT_GC_PERCENT\": PRIMER_OPT_GC_PERCENT,\n",
    "    \"PRIMER_MIN_TM\": PRIMER_MIN_TM,\n",
    "    \"PRIMER_MAX_TM\": PRIMER_MAX_TM,\n",
    "    \"PRIMER_OPT_TM\": PRIMER_OPT_TM,\n",
    "    \"PRIMER_NUM_RETURN\": PRIMER_NUM_RETURN,\n",
    "    \"PRIMER_MAX_NS_ACCEPTED\": PRIMER_MAX_NS_ACCEPTED,\n",
    "    \"PRIMER_EXPLAIN_FLAG\": PRIMER_EXPLAIN_FLAG\n",
    "}"
   ]
  },
  {
   "cell_type": "markdown",
   "metadata": {},
   "source": [
    "**PRIMER_MAX_NS_ACCEPTED = 0**:  \n",
    "To avoid picking primers containing ambigous bases, **differeces between Sanger sequence and reference CDS (indels and mismatches in the alignment) are substitued to 'N'**, then, the parameter `PRIMER_MAX_NS_ACCEPTED` were set to `0` to skip those bases.\n"
   ]
  },
  {
   "cell_type": "code",
   "execution_count": 2,
   "metadata": {},
   "outputs": [],
   "source": [
    "# write params to 'config'\n",
    "config = \"./configs/primer3.config\"\n",
    "open(config, \"w\").close()\n",
    "with open(config, \"a\") as handle_out:\n",
    "    handle_out.write(\"Primer3 File - http://primer3.org\\n\")\n",
    "    handle_out.write(\"P3_FILE_TYPE=settings\\n\\n\")\n",
    "    for k, v in GENERAL.items():\n",
    "        handle_out.write(f\"{k}={v}\\n\")\n",
    "    handle_out.write(\"=\\n\")"
   ]
  },
  {
   "cell_type": "markdown",
   "metadata": {},
   "source": [
    "Primer3 per-read setting"
   ]
  },
  {
   "cell_type": "code",
   "execution_count": 4,
   "metadata": {},
   "outputs": [],
   "source": [
    "PRIMER_PICK_LEFT_PRIMER: bool # == 1 for forward records\n",
    "PRIMER_PICK_RIGHT_PRIMER: bool # == 1 for reverse records\n",
    "PRIMER_EXPLAIN_FLAG: bool = 1 # 0 or 1"
   ]
  },
  {
   "cell_type": "markdown",
   "metadata": {},
   "source": [
    "Execute Primer3"
   ]
  },
  {
   "cell_type": "code",
   "execution_count": 21,
   "metadata": {},
   "outputs": [
    {
     "data": {
      "text/plain": [
       "CompletedProcess(args=['./tools/primer3_core', '--output=./test/test_primer3/example.out', '--p3_settings_file=./configs/primer3.config', './test/test_primer3/example.in'], returncode=0, stdout=b'', stderr=b'')"
      ]
     },
     "execution_count": 21,
     "metadata": {},
     "output_type": "execute_result"
    }
   ],
   "source": [
    "from subprocess import run\n",
    "\n",
    "# Primer3 location\n",
    "Primer3 = \"./tools/primer3_core\"\n",
    "\n",
    "# I/O\n",
    "test_input = \"./test/test_primer3/example.in\"\n",
    "test_output = \"./test/test_primer3/example.out\"\n",
    "\n",
    "proc = run([\n",
    "    Primer3,\n",
    "    f\"--output={test_output}\",\n",
    "    f\"--p3_settings_file={config}\",\n",
    "    test_input\n",
    "    ],\n",
    "    capture_output=True\n",
    "    )\n",
    "proc"
   ]
  },
  {
   "cell_type": "markdown",
   "metadata": {},
   "source": [
    "### Get re-seq name list (20220325)"
   ]
  },
  {
   "cell_type": "code",
   "execution_count": 3,
   "metadata": {},
   "outputs": [],
   "source": [
    "import pandas as pd\n",
    "\n",
    "df = pd.read_csv(\"output_classifier/summary.tsv\", sep=\"\\t\")\n",
    "\n",
    "with open(\"sequencing_request/20220325_to_be_sequenced.csv\", \"a\") as fout:\n",
    "    # iter over each row in `df`\n",
    "    for row in df.iterrows():\n",
    "        rname, fwd, rev, ovlp = row[1]\n",
    "        if not fwd or not rev:\n",
    "            req = \"ADF\" if not fwd else \"ADR\"\n",
    "            fout.write(f\"{rname},{req}\\n\")"
   ]
  },
  {
   "cell_type": "markdown",
   "metadata": {},
   "source": [
    "### Visualing read length distribution after trimming with 'fastp'"
   ]
  },
  {
   "cell_type": "code",
   "execution_count": null,
   "metadata": {},
   "outputs": [],
   "source": [
    "from Bio import SeqIO\n",
    "read_len = []\n",
    "\n",
    "for i in SeqIO.parse(open(\"raw_fastq/forward.fq\", \"r\"), \"fastq\"):\n",
    "    read_len.append(i.__len__())\n",
    "\n",
    "for i in SeqIO.parse(open(\"raw_fastq/reverse.fq\", \"r\"), \"fastq\"):\n",
    "    read_len.append(i.__len__())\n",
    "\n",
    "# create histogram\n",
    "def hist(\n",
    "    x:list, \n",
    "    interval:tuple, \n",
    "    binwidth:float,\n",
    "    title:str=\"\",\n",
    "    outfile:str=None\n",
    "    ) -> None:\n",
    "    \n",
    "    start, end = interval\n",
    "    # initiate `hist_dict`\n",
    "    hist_dict = {}\n",
    "    k = start\n",
    "    while k <= end:\n",
    "        left = k\n",
    "        right = k + binwidth\n",
    "        key = f\"{k:.1f}\"\n",
    "        hist_dict[key] = 0\n",
    "        k += binwidth\n",
    "\n",
    "    for i in x:\n",
    "        bins = f\"{float(i) // binwidth * binwidth:.1f}\"\n",
    "        hist_dict[bins] += 1\n",
    "    \n",
    "    # output\n",
    "    if outfile == None:\n",
    "        print(f\"{title}\")\n",
    "        print(f\"Histogram:\")\n",
    "        k = start\n",
    "        while k <= end:\n",
    "            left = k\n",
    "            right = k + binwidth\n",
    "            right = right if right <= end else left\n",
    "            key = f\"{k:.1f}\"\n",
    "            print(f\"\\t{left:.1f}-{right:.1f}: {hist_dict[key]}\")\n",
    "            k += binwidth\n",
    "        print(\"\\nParams:\")\n",
    "        print(f\"\\t-interval: ({start}, {end})\")\n",
    "        print(f\"\\t-binwidth: {binwidth}\\n\")\n",
    "    else:\n",
    "        with open(outfile, \"a\") as fout:\n",
    "            fout.write(f\"{title}\\n\")\n",
    "            fout.write(f\"Histogram:\\n\")\n",
    "            k = start\n",
    "            while k <= end:\n",
    "                left = k\n",
    "                right = k + binwidth\n",
    "                right = right if right <= end else left\n",
    "                key = f\"{k:.1f}\"\n",
    "                fout.write(f\"\\t{left:.1f}-{right:.1f}: {hist_dict[key]}\\n\")\n",
    "                k += binwidth\n",
    "            fout.write(\"\\nParams:\\n\")\n",
    "            fout.write(f\"\\t-interval: ({start}, {end})\\n\")\n",
    "            fout.write(f\"\\t-binwidth: {binwidth}\\n\\n\")\n",
    "    return\n",
    "\n",
    "hist(read_len, (0, 1000), 50)"
   ]
  }
 ],
 "metadata": {
  "interpreter": {
   "hash": "99a1819cc3e3d2e2d6e2f5a558569ae8848625f89a1b16a76de44a868ef30002"
  },
  "kernelspec": {
   "display_name": "Python 3",
   "language": "python",
   "name": "python3"
  },
  "language_info": {
   "codemirror_mode": {
    "name": "ipython",
    "version": 3
   },
   "file_extension": ".py",
   "mimetype": "text/x-python",
   "name": "python",
   "nbconvert_exporter": "python",
   "pygments_lexer": "ipython3",
   "version": "3.10.0"
  }
 },
 "nbformat": 4,
 "nbformat_minor": 2
}
